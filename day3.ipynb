{
 "cells": [
  {
   "cell_type": "code",
   "execution_count": 111,
   "metadata": {
    "collapsed": true
   },
   "outputs": [],
   "source": [
    "with open('day3.txt','r') as day3:\n",
    "\tday3_list=[line.rstrip('\\n') for line in day3]"
   ]
  },
  {
   "cell_type": "code",
   "execution_count": 75,
   "metadata": {
    "collapsed": false
   },
   "outputs": [
    {
     "data": {
      "text/plain": [
       "['#1', '@', '126,902:', '29x28']"
      ]
     },
     "execution_count": 75,
     "metadata": {},
     "output_type": "execute_result"
    }
   ],
   "source": [
    "day3_list[0]\n",
    "day3_list[0].split()"
   ]
  },
  {
   "cell_type": "code",
   "execution_count": 112,
   "metadata": {
    "collapsed": false
   },
   "outputs": [],
   "source": [
    "#create a 1000*1000 matrix\n",
    "matrix=[[0]*1000 for i in range(1000)]\n",
    "#matrix=[[0]*10 for i in range(10)]"
   ]
  },
  {
   "cell_type": "code",
   "execution_count": 113,
   "metadata": {
    "collapsed": true
   },
   "outputs": [],
   "source": [
    "def plotnum(left, up, width, height):\n",
    "    # a helper function to add accumulate clothes in the orignal matrix, count the number of times where a position is assigned\n",
    "    for i in range(left,left+width):\n",
    "        for j in range(up, up+height):\n",
    "            matrix[j][i]+=1"
   ]
  },
  {
   "cell_type": "code",
   "execution_count": 114,
   "metadata": {
    "collapsed": false
   },
   "outputs": [],
   "source": [
    "# loop through input and count\n",
    "for row in range(len(day3_list)):\n",
    "    left=int(day3_list[row].split()[2].split(',')[0])\n",
    "    up=int(day3_list[row].split()[2].split(',')[1].strip(':'))\n",
    "    width=int(day3_list[row].split()[3].split('x')[0])\n",
    "    height=int(day3_list[row].split()[3].split('x')[1])\n",
    "    plotnum(left, up, width, height)\n"
   ]
  },
  {
   "cell_type": "code",
   "execution_count": 115,
   "metadata": {
    "collapsed": false
   },
   "outputs": [
    {
     "name": "stdout",
     "output_type": "stream",
     "text": [
      "118858\n"
     ]
    }
   ],
   "source": [
    "# part 1:How many square inches of fabric are within two or more claims?\n",
    "# solution: find any region that has more than 1 count\n",
    "sum=0\n",
    "for i in range(len(matrix)):\n",
    "    for j in range(len(matrix)):\n",
    "        if matrix[i][j]>1:\n",
    "            sum+=1\n",
    "print(sum)\n",
    "#[sum(col) for col in matrix for i in col if i>1] "
   ]
  },
  {
   "cell_type": "code",
   "execution_count": 122,
   "metadata": {
    "collapsed": false
   },
   "outputs": [
    {
     "name": "stdout",
     "output_type": "stream",
     "text": [
      "1100\n"
     ]
    }
   ],
   "source": [
    "# part 2 find the input row where the clothes doesn't overlap with any of the input\n",
    "# solution: since we already have the matrix, loop through the input to see which input range completely has 1 in it\n",
    "for row in range(len(day3_list)):\n",
    "    left=int(day3_list[row].split()[2].split(',')[0])\n",
    "    up=int(day3_list[row].split()[2].split(',')[1].strip(':'))\n",
    "    width=int(day3_list[row].split()[3].split('x')[0])\n",
    "    height=int(day3_list[row].split()[3].split('x')[1])\n",
    "    answer = True\n",
    "    for i in range(up,up+height):\n",
    "        for j in range(left, left+width):\n",
    "            if matrix[i][j] > 1:\n",
    "                answer = False\n",
    "    if answer:\n",
    "        print(row+1)"
   ]
  },
  {
   "cell_type": "code",
   "execution_count": 107,
   "metadata": {
    "collapsed": false
   },
   "outputs": [],
   "source": []
  }
 ],
 "metadata": {
  "kernelspec": {
   "display_name": "Python 3",
   "language": "python",
   "name": "python3"
  },
  "language_info": {
   "codemirror_mode": {
    "name": "ipython",
    "version": 3
   },
   "file_extension": ".py",
   "mimetype": "text/x-python",
   "name": "python",
   "nbconvert_exporter": "python",
   "pygments_lexer": "ipython3",
   "version": "3.5.2"
  }
 },
 "nbformat": 4,
 "nbformat_minor": 1
}
